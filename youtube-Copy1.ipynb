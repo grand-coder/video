{
 "cells": [
  {
   "cell_type": "code",
   "execution_count": 1,
   "metadata": {},
   "outputs": [
    {
     "name": "stdout",
     "output_type": "stream",
     "text": [
      "請輸入你想得到的網址:https://www.youtube.com/watch?v=or5A_ZzB6YI&t=179s\n",
      "下載目標: https://www.youtube.com/watch?v=or5A_ZzB6YI&t=179s\n"
     ]
    }
   ],
   "source": [
    "target = input(\"請輸入你想得到的網址:\")\n",
    "print(\"下載目標:\", target)"
   ]
  },
  {
   "cell_type": "code",
   "execution_count": 2,
   "metadata": {},
   "outputs": [],
   "source": [
    "import ssl\n",
    "ssl._create_default_https_context = ssl._create_unverified_context"
   ]
  },
  {
   "cell_type": "code",
   "execution_count": 3,
   "metadata": {},
   "outputs": [
    {
     "name": "stdout",
     "output_type": "stream",
     "text": [
      "影片: https://r6---sn-ipoxu-un5d.googlevideo.com/videoplayback?pl=21&itag=242&mt=1537434366&ms=au%2Conr&ei=c2OjW-HkCJWW4gLGh6WYDQ&mn=sn-ipoxu-un5d%2Csn-oguelnle&mm=31%2C26&c=WEB&keepalive=yes&id=o-AALeVpByvqYY-NkvGYVjIa-QqDI9m2iGKVkgGfxYtZt0&ip=223.136.106.48&sparams=aitags%2Cclen%2Cdur%2Cei%2Cgir%2Cid%2Cinitcwndbps%2Cip%2Cipbits%2Citag%2Ckeepalive%2Clmt%2Cmime%2Cmm%2Cmn%2Cms%2Cmv%2Cpl%2Crequiressl%2Csource%2Cexpire&mv=m&key=yt6&lmt=1532853110274894&dur=292.759&fvip=1&mime=video%2Fwebm&initcwndbps=1137500&ipbits=0&clen=6951915&aitags=133%2C134%2C135%2C136%2C137%2C160%2C242%2C243%2C244%2C247%2C248%2C278&expire=1537456083&requiressl=yes&signature=3F5E62E42C2FAC44D213189A910872EA9DBC09AA.2247F217795770ECC2E3B7CB99F3E9EF9297F02B&source=youtube&gir=yes&alr=yes&cpn=sL3a6ZGKUcTg2KmY&cver=2.20180913&range=1286287-2022904&rn=30&rbuf=27795\n",
      "聲音: https://r6---sn-ipoxu-un5d.googlevideo.com/videoplayback?pl=21&itag=251&mt=1537434366&ms=au%2Conr&ei=c2OjW-HkCJWW4gLGh6WYDQ&mn=sn-ipoxu-un5d%2Csn-oguelnle&mm=31%2C26&c=WEB&keepalive=yes&id=o-AALeVpByvqYY-NkvGYVjIa-QqDI9m2iGKVkgGfxYtZt0&ip=223.136.106.48&sparams=clen%2Cdur%2Cei%2Cgir%2Cid%2Cinitcwndbps%2Cip%2Cipbits%2Citag%2Ckeepalive%2Clmt%2Cmime%2Cmm%2Cmn%2Cms%2Cmv%2Cpl%2Crequiressl%2Csource%2Cexpire&mv=m&key=yt6&lmt=1532854758698471&dur=292.781&fvip=1&mime=audio%2Fwebm&initcwndbps=1137500&ipbits=0&clen=4606501&expire=1537456083&requiressl=yes&signature=50374EB2ECC5AF24E691AA0DEA2B32DD1E1EEE36.B5ABF984C593693B44C270EB0709D7C4DCFF0881&source=youtube&gir=yes&alr=yes&cpn=sL3a6ZGKUcTg2KmY&cver=2.20180913&range=808158-1153509&rn=29&rbuf=24803\n"
     ]
    }
   ],
   "source": [
    "from browsermobproxy import Server\n",
    "from selenium.common.exceptions import NoSuchElementException\n",
    "\n",
    "server = Server(\"./browsermob-proxy-2.1.4/bin/browsermob-proxy\")\n",
    "server.start()\n",
    "proxy = server.create_proxy()\n",
    "\n",
    "from selenium import webdriver\n",
    "chrome_options = webdriver.ChromeOptions()\n",
    "chrome_options.add_argument(\"--proxy-server={0}\".format(proxy.proxy))\n",
    "driver = webdriver.Chrome(executable_path=\"./chromedriver\", chrome_options = chrome_options)\n",
    "\n",
    "\n",
    "proxy.new_har(\"youtube\")\n",
    "driver.get(target)\n",
    "proxy.wait_for_traffic_to_stop(1, 30000) \n",
    "\n",
    "video = None\n",
    "audio = None\n",
    "for ent in proxy.har['log']['entries']:\n",
    "    url = ent[\"request\"][\"url\"]\n",
    "    if \"mime=video\" in url:\n",
    "        video = url\n",
    "    if \"mime=audio\" in url:\n",
    "        audio = url\n",
    "\n",
    "print(\"影片:\", video)\n",
    "print(\"聲音:\", audio)\n",
    "\n",
    "server.stop()\n",
    "driver.close()"
   ]
  },
  {
   "cell_type": "code",
   "execution_count": 4,
   "metadata": {},
   "outputs": [
    {
     "name": "stdout",
     "output_type": "stream",
     "text": [
      "完整影片: https://r6---sn-ipoxu-un5d.googlevideo.com/videoplayback?pl=21&itag=242&mt=1537434366&ms=au%2Conr&ei=c2OjW-HkCJWW4gLGh6WYDQ&mn=sn-ipoxu-un5d%2Csn-oguelnle&mm=31%2C26&c=WEB&keepalive=yes&id=o-AALeVpByvqYY-NkvGYVjIa-QqDI9m2iGKVkgGfxYtZt0&ip=223.136.106.48&sparams=aitags%2Cclen%2Cdur%2Cei%2Cgir%2Cid%2Cinitcwndbps%2Cip%2Cipbits%2Citag%2Ckeepalive%2Clmt%2Cmime%2Cmm%2Cmn%2Cms%2Cmv%2Cpl%2Crequiressl%2Csource%2Cexpire&mv=m&key=yt6&lmt=1532853110274894&dur=292.759&fvip=1&mime=video%2Fwebm&initcwndbps=1137500&ipbits=0&clen=6951915&aitags=133%2C134%2C135%2C136%2C137%2C160%2C242%2C243%2C244%2C247%2C248%2C278&expire=1537456083&requiressl=yes&signature=3F5E62E42C2FAC44D213189A910872EA9DBC09AA.2247F217795770ECC2E3B7CB99F3E9EF9297F02B&source=youtube&gir=yes&alr=yes&cpn=sL3a6ZGKUcTg2KmY&cver=2.20180913&&rn=30&rbuf=27795\n",
      "完整聲音: https://r6---sn-ipoxu-un5d.googlevideo.com/videoplayback?pl=21&itag=251&mt=1537434366&ms=au%2Conr&ei=c2OjW-HkCJWW4gLGh6WYDQ&mn=sn-ipoxu-un5d%2Csn-oguelnle&mm=31%2C26&c=WEB&keepalive=yes&id=o-AALeVpByvqYY-NkvGYVjIa-QqDI9m2iGKVkgGfxYtZt0&ip=223.136.106.48&sparams=clen%2Cdur%2Cei%2Cgir%2Cid%2Cinitcwndbps%2Cip%2Cipbits%2Citag%2Ckeepalive%2Clmt%2Cmime%2Cmm%2Cmn%2Cms%2Cmv%2Cpl%2Crequiressl%2Csource%2Cexpire&mv=m&key=yt6&lmt=1532854758698471&dur=292.781&fvip=1&mime=audio%2Fwebm&initcwndbps=1137500&ipbits=0&clen=4606501&expire=1537456083&requiressl=yes&signature=50374EB2ECC5AF24E691AA0DEA2B32DD1E1EEE36.B5ABF984C593693B44C270EB0709D7C4DCFF0881&source=youtube&gir=yes&alr=yes&cpn=sL3a6ZGKUcTg2KmY&cver=2.20180913&&rn=29&rbuf=24803\n"
     ]
    }
   ],
   "source": [
    "import re\n",
    "from urllib.request import urlretrieve\n",
    "    \n",
    "video = re.sub(\"range=[0-9]+-[0-9]+\", \"\", video)\n",
    "urlretrieve(video, \"./tempvideo.webm\")\n",
    "if not audio is None:\n",
    "    audio = re.sub(\"range=[0-9]+-[0-9]+\", \"\", audio)\n",
    "    urlretrieve(audio, \"./tempaudio.webm\")\n",
    "print(\"完整影片:\", video)\n",
    "print(\"完整聲音:\", audio)"
   ]
  },
  {
   "cell_type": "code",
   "execution_count": 5,
   "metadata": {
    "scrolled": false
   },
   "outputs": [
    {
     "data": {
      "text/plain": [
       "(b'',\n",
       " b\"ffmpeg version 4.0.2 Copyright (c) 2000-2018 the FFmpeg developers\\n  built with Apple LLVM version 8.0.0 (clang-800.0.42.1)\\n  configuration: --prefix=/usr/local/Cellar/ffmpeg/4.0.2 --enable-shared --enable-pthreads --enable-version3 --enable-hardcoded-tables --enable-avresample --cc=clang --host-cflags= --host-ldflags= --enable-gpl --enable-libmp3lame --enable-libx264 --enable-libxvid --enable-opencl --enable-videotoolbox --disable-lzma\\n  libavutil      56. 14.100 / 56. 14.100\\n  libavcodec     58. 18.100 / 58. 18.100\\n  libavformat    58. 12.100 / 58. 12.100\\n  libavdevice    58.  3.100 / 58.  3.100\\n  libavfilter     7. 16.100 /  7. 16.100\\n  libavresample   4.  0.  0 /  4.  0.  0\\n  libswscale      5.  1.100 /  5.  1.100\\n  libswresample   3.  1.100 /  3.  1.100\\n  libpostproc    55.  1.100 / 55.  1.100\\nInput #0, matroska,webm, from 'tempvideo.webm':\\n  Metadata:\\n    encoder         : google/video-file\\n  Duration: 00:04:52.76, start: 0.000000, bitrate: 189 kb/s\\n    Stream #0:0(eng): Video: vp9 (Profile 0), yuv420p(tv, bt709), 426x240, SAR 1:1 DAR 71:40, 29.97 fps, 29.97 tbr, 1k tbn, 1k tbc (default)\\nInput #1, matroska,webm, from 'tempaudio.webm':\\n  Metadata:\\n    encoder         : google/video-file\\n  Duration: 00:04:52.78, start: -0.007000, bitrate: 125 kb/s\\n    Stream #1:0(eng): Audio: opus, 48000 Hz, stereo, fltp (default)\\nStream mapping:\\n  Stream #0:0 -> #0:0 (vp9 (native) -> h264 (libx264))\\n  Stream #1:0 -> #0:1 (opus (native) -> aac (native))\\nPress [q] to stop, [?] for help\\n[libx264 @ 0x7fd2e8809800] using SAR=1/1\\n[libx264 @ 0x7fd2e8809800] using cpu capabilities: MMX2 SSE2Fast SSSE3 SSE4.2 AVX FMA3 BMI2 AVX2\\n[libx264 @ 0x7fd2e8809800] profile High, level 2.1\\n[libx264 @ 0x7fd2e8809800] 264 - core 152 r2854 e9a5903 - H.264/MPEG-4 AVC codec - Copyleft 2003-2017 - http://www.videolan.org/x264.html - options: cabac=1 ref=3 deblock=1:0:0 analyse=0x3:0x113 me=hex subme=7 psy=1 psy_rd=1.00:0.00 mixed_ref=1 me_range=16 chroma_me=1 trellis=1 8x8dct=1 cqm=0 deadzone=21,11 fast_pskip=1 chroma_qp_offset=-2 threads=6 lookahead_threads=1 sliced_threads=0 nr=0 decimate=1 interlaced=0 bluray_compat=0 constrained_intra=0 bframes=3 b_pyramid=2 b_adapt=1 b_bias=0 direct=1 weightb=1 open_gop=0 weightp=2 keyint=250 keyint_min=25 scenecut=40 intra_refresh=0 rc_lookahead=40 rc=crf mbtree=1 crf=23.0 qcomp=0.60 qpmin=0 qpmax=69 qpstep=4 ip_ratio=1.40 aq=1:1.00\\nOutput #0, mp4, to '2018-09-20 17:11:54.943728.mp4':\\n  Metadata:\\n    encoder         : Lavf58.12.100\\n    Stream #0:0(eng): Video: h264 (libx264) (avc1 / 0x31637661), yuv420p(progressive), 426x240 [SAR 1:1 DAR 71:40], q=-1--1, 29.97 fps, 30k tbn, 29.97 tbc (default)\\n    Metadata:\\n      encoder         : Lavc58.18.100 libx264\\n    Side data:\\n      cpb: bitrate max/min/avg: 0/0/0 buffer size: 0 vbv_delay: -1\\n    Stream #0:1(eng): Audio: aac (LC) (mp4a / 0x6134706D), 48000 Hz, stereo, fltp, 128 kb/s (default)\\n    Metadata:\\n      encoder         : Lavc58.18.100 aac\\nframe=  316 fps=0.0 q=29.0 size=     256kB time=00:00:08.81 bitrate= 238.1kbits/s speed=17.6x    \\rframe=  557 fps=556 q=29.0 size=     768kB time=00:00:16.81 bitrate= 374.1kbits/s speed=16.8x    \\rframe=  772 fps=513 q=29.0 size=    1536kB time=00:00:24.00 bitrate= 524.3kbits/s speed=  16x    \\rframe= 1035 fps=516 q=29.0 size=    2048kB time=00:00:32.78 bitrate= 511.7kbits/s speed=16.4x    \\rframe= 1252 fps=500 q=29.0 size=    2560kB time=00:00:40.02 bitrate= 524.0kbits/s speed=  16x    \\rframe= 1450 fps=482 q=29.0 size=    3328kB time=00:00:46.63 bitrate= 584.6kbits/s speed=15.5x    \\rframe= 1654 fps=471 q=29.0 size=    4096kB time=00:00:53.44 bitrate= 627.9kbits/s speed=15.2x    \\rframe= 1892 fps=472 q=29.0 size=    4608kB time=00:01:01.37 bitrate= 615.0kbits/s speed=15.3x    \\rframe= 2124 fps=471 q=29.0 size=    5120kB time=00:01:09.10 bitrate= 607.0kbits/s speed=15.3x    \\rframe= 2312 fps=461 q=29.0 size=    5632kB time=00:01:15.39 bitrate= 612.0kbits/s speed=  15x    \\rframe= 2526 fps=458 q=29.0 size=    6144kB time=00:01:22.51 bitrate= 610.0kbits/s speed=  15x    \\rframe= 2679 fps=445 q=29.0 size=    6656kB time=00:01:27.62 bitrate= 622.3kbits/s speed=14.6x    \\rframe= 2853 fps=438 q=29.0 size=    6912kB time=00:01:33.44 bitrate= 606.0kbits/s speed=14.3x    \\rframe= 3061 fps=436 q=29.0 size=    7680kB time=00:01:40.39 bitrate= 626.7kbits/s speed=14.3x    \\rframe= 3254 fps=432 q=29.0 size=    8192kB time=00:01:46.81 bitrate= 628.3kbits/s speed=14.2x    \\rframe= 3455 fps=430 q=29.0 size=    8704kB time=00:01:53.53 bitrate= 628.0kbits/s speed=14.1x    \\rframe= 3644 fps=427 q=26.0 size=    9216kB time=00:01:59.82 bitrate= 630.0kbits/s speed=  14x    \\rframe= 3859 fps=427 q=29.0 size=    9728kB time=00:02:06.99 bitrate= 627.5kbits/s speed=14.1x    \\rframe= 4055 fps=425 q=29.0 size=   10240kB time=00:02:13.54 bitrate= 628.1kbits/s speed=  14x    \\rframe= 4292 fps=427 q=29.0 size=   10752kB time=00:02:21.44 bitrate= 622.7kbits/s speed=14.1x    \\rframe= 4520 fps=429 q=26.0 size=   11520kB time=00:02:29.05 bitrate= 633.1kbits/s speed=14.1x    \\rframe= 4690 fps=425 q=29.0 size=   12032kB time=00:02:34.73 bitrate= 637.0kbits/s speed=  14x    \\rframe= 4900 fps=424 q=29.0 size=   12800kB time=00:02:41.74 bitrate= 648.3kbits/s speed=  14x    \\rframe= 5128 fps=426 q=29.0 size=   13312kB time=00:02:49.36 bitrate= 643.9kbits/s speed=14.1x    \\rframe= 5354 fps=427 q=29.0 size=   13824kB time=00:02:56.87 bitrate= 640.3kbits/s speed=14.1x    \\rframe= 5573 fps=427 q=29.0 size=   14592kB time=00:03:04.21 bitrate= 648.9kbits/s speed=14.1x    \\rframe= 5783 fps=427 q=29.0 size=   15104kB time=00:03:11.21 bitrate= 647.1kbits/s speed=14.1x    \\rframe= 5978 fps=425 q=29.0 size=   15616kB time=00:03:17.69 bitrate= 647.1kbits/s speed=14.1x    \\rframe= 6221 fps=427 q=29.0 size=   16384kB time=00:03:25.82 bitrate= 652.1kbits/s speed=14.1x    \\rframe= 6411 fps=426 q=29.0 size=   16896kB time=00:03:32.16 bitrate= 652.4kbits/s speed=14.1x    \\rframe= 6642 fps=427 q=26.0 size=   17408kB time=00:03:39.88 bitrate= 648.6kbits/s speed=14.1x    \\rframe= 6866 fps=428 q=29.0 size=   17920kB time=00:03:47.34 bitrate= 645.7kbits/s speed=14.2x    \\rframe= 7127 fps=430 q=29.0 size=   18688kB time=00:03:56.03 bitrate= 648.6kbits/s speed=14.3x    \\rframe= 7332 fps=430 q=29.0 size=   19200kB time=00:04:02.90 bitrate= 647.5kbits/s speed=14.2x    \\rframe= 7516 fps=428 q=29.0 size=   19712kB time=00:04:09.04 bitrate= 648.4kbits/s speed=14.2x    \\rframe= 7718 fps=427 q=29.0 size=   20480kB time=00:04:15.75 bitrate= 656.0kbits/s speed=14.2x    \\rframe= 7865 fps=424 q=29.0 size=   20736kB time=00:04:20.67 bitrate= 651.7kbits/s speed=  14x    \\rframe= 8048 fps=422 q=29.0 size=   21248kB time=00:04:26.79 bitrate= 652.4kbits/s speed=  14x    \\rframe= 8241 fps=421 q=29.0 size=   21760kB time=00:04:33.20 bitrate= 652.5kbits/s speed=  14x    \\rframe= 8453 fps=421 q=29.0 size=   22272kB time=00:04:40.32 bitrate= 650.9kbits/s speed=  14x    \\rframe= 8773 fps=426 q=29.0 size=   23040kB time=00:04:50.98 bitrate= 648.6kbits/s speed=14.1x    \\rframe= 8774 fps=423 q=-1.0 Lsize=   23396kB time=00:04:52.77 bitrate= 654.6kbits/s speed=14.1x    \\nvideo:18527kB audio:4563kB subtitle:0kB other streams:0kB global headers:0kB muxing overhead: 1.323403%\\n[libx264 @ 0x7fd2e8809800] frame I:420   Avg QP:22.11  size:  6216\\n[libx264 @ 0x7fd2e8809800] frame P:3586  Avg QP:25.48  size:  3271\\n[libx264 @ 0x7fd2e8809800] frame B:4768  Avg QP:27.67  size:   971\\n[libx264 @ 0x7fd2e8809800] consecutive B-frames: 20.7% 16.7% 12.0% 50.6%\\n[libx264 @ 0x7fd2e8809800] mb I  I16..4: 16.6% 65.9% 17.5%\\n[libx264 @ 0x7fd2e8809800] mb P  I16..4:  6.3% 21.8%  5.3%  P16..4: 25.4%  9.0%  5.7%  0.0%  0.0%    skip:26.6%\\n[libx264 @ 0x7fd2e8809800] mb B  I16..4:  1.1%  3.3%  0.7%  B16..8: 29.1%  5.3%  2.1%  direct: 3.7%  skip:54.7%  L0:49.0% L1:43.7% BI: 7.3%\\n[libx264 @ 0x7fd2e8809800] 8x8 transform intra:65.4% inter:71.0%\\n[libx264 @ 0x7fd2e8809800] coded y,uvDC,uvAC intra: 56.2% 67.2% 33.0% inter: 15.6% 17.0% 2.8%\\n[libx264 @ 0x7fd2e8809800] i16 v,h,dc,p: 27% 31% 11% 31%\\n[libx264 @ 0x7fd2e8809800] i8 v,h,dc,ddl,ddr,vr,hd,vl,hu: 23% 25% 17%  5%  5%  6%  6%  6%  8%\\n[libx264 @ 0x7fd2e8809800] i4 v,h,dc,ddl,ddr,vr,hd,vl,hu: 24% 22% 16%  6%  7%  7%  7%  6%  6%\\n[libx264 @ 0x7fd2e8809800] i8c dc,h,v,p: 49% 24% 16% 11%\\n[libx264 @ 0x7fd2e8809800] Weighted P-Frames: Y:10.2% UV:8.2%\\n[libx264 @ 0x7fd2e8809800] ref P L0: 63.0% 17.7% 12.8%  6.0%  0.5%\\n[libx264 @ 0x7fd2e8809800] ref B L0: 90.2%  7.9%  1.9%\\n[libx264 @ 0x7fd2e8809800] ref B L1: 97.1%  2.9%\\n[libx264 @ 0x7fd2e8809800] kb/s:518.42\\n[aac @ 0x7fd2e880b000] Qavg: 737.490\\n\")"
      ]
     },
     "execution_count": 5,
     "metadata": {},
     "output_type": "execute_result"
    }
   ],
   "source": [
    "import os\n",
    "from subprocess import PIPE, Popen\n",
    "import datetime\n",
    "\n",
    "title = str(datetime.datetime.now())\n",
    "\n",
    "if not audio is None:\n",
    "    command = [\"ffmpeg\", \"-i\", \"tempvideo.webm\", \"-i\", \"tempaudio.webm\", title + \".mp4\"]\n",
    "else:\n",
    "    command = [\"ffmpeg\", \"-i\", \"tempvideo.webm\", title + \".mp4\"]\n",
    "\n",
    "with Popen(command, stdout=PIPE, stderr=PIPE) as p:\n",
    "    result = p.communicate()\n",
    "    \n",
    "if not audio is None:\n",
    "    os.remove(\"tempvideo.webm\")\n",
    "    os.remove(\"tempaudio.webm\")\n",
    "else:\n",
    "    os.remove(\"tempvideo.webm\")\n",
    "    \n",
    "result"
   ]
  },
  {
   "cell_type": "code",
   "execution_count": null,
   "metadata": {},
   "outputs": [],
   "source": []
  }
 ],
 "metadata": {
  "kernelspec": {
   "display_name": "py36default",
   "language": "python",
   "name": "py36default"
  },
  "language_info": {
   "codemirror_mode": {
    "name": "ipython",
    "version": 3
   },
   "file_extension": ".py",
   "mimetype": "text/x-python",
   "name": "python",
   "nbconvert_exporter": "python",
   "pygments_lexer": "ipython3",
   "version": "3.6.0"
  }
 },
 "nbformat": 4,
 "nbformat_minor": 2
}
